{
 "cells": [
  {
   "cell_type": "code",
   "execution_count": 2,
   "id": "c22b9603-980a-47c2-a443-6a3111101486",
   "metadata": {},
   "outputs": [],
   "source": [
    "import json\n",
    "\n",
    "res = json.load(open('results/2025-07-03-18-01-53.json'))"
   ]
  },
  {
   "cell_type": "code",
   "execution_count": 4,
   "id": "d9d0dae4-79e1-4d7c-9f76-f0375c69d177",
   "metadata": {},
   "outputs": [],
   "source": [
    "res['max_num_examples'] = 3"
   ]
  },
  {
   "cell_type": "code",
   "execution_count": 8,
   "id": "68dc3773-1c23-4562-b8e6-c3fca01eb116",
   "metadata": {},
   "outputs": [],
   "source": [
    "res['per_prompt_data'] = res['per_prompt_data'][:3]"
   ]
  }
 ],
 "metadata": {
  "kernelspec": {
   "display_name": "base",
   "language": "python",
   "name": "base"
  },
  "language_info": {
   "codemirror_mode": {
    "name": "ipython",
    "version": 3
   },
   "file_extension": ".py",
   "mimetype": "text/x-python",
   "name": "python",
   "nbconvert_exporter": "python",
   "pygments_lexer": "ipython3",
   "version": "3.11.5"
  }
 },
 "nbformat": 4,
 "nbformat_minor": 5
}
