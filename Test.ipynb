{
 "cells": [
  {
   "cell_type": "code",
   "execution_count": null,
   "id": "7f1173ed-4818-4b09-b672-16f521957071",
   "metadata": {},
   "outputs": [],
   "source": [
    "import json\n",
    "data = json.load(open('results/2025-07-03-18-01-53.json'))"
   ]
  },
  {
   "cell_type": "code",
   "execution_count": null,
   "id": "7edca3a4-264f-440b-8f5b-8719b4ca26b9",
   "metadata": {},
   "outputs": [],
   "source": [
    "data['max_num_examples'] = 2\n",
    "data['per_prompt_data'] = data['per_prompt_data'][:2]"
   ]
  },
  {
   "cell_type": "code",
   "execution_count": null,
   "id": "3c3c6786-ba02-44a2-9150-29245c1da8b9",
   "metadata": {},
   "outputs": [],
   "source": [
    "with open('results/two_sample.json','w') as f:\n",
    "    json.dump(data, f)"
   ]
  },
  {
   "cell_type": "code",
   "execution_count": null,
   "id": "34b75b44-d5cb-4070-b830-001bdae7e0ab",
   "metadata": {},
   "outputs": [],
   "source": [
    "import json\n",
    "data = json.load(open('llm_cache.json'))"
   ]
  },
  {
   "cell_type": "code",
   "execution_count": null,
   "id": "fed7ae0c-a938-4aa7-9588-f5c830e72a88",
   "metadata": {},
   "outputs": [],
   "source": [
    "for key in data:\n",
    "    print(data[key])\n",
    "    print('----')"
   ]
  }
 ],
 "metadata": {
  "kernelspec": {
   "display_name": "base",
   "language": "python",
   "name": "base"
  },
  "language_info": {
   "codemirror_mode": {
    "name": "ipython",
    "version": 3
   },
   "file_extension": ".py",
   "mimetype": "text/x-python",
   "name": "python",
   "nbconvert_exporter": "python",
   "pygments_lexer": "ipython3",
   "version": "3.11.5"
  }
 },
 "nbformat": 4,
 "nbformat_minor": 5
}
